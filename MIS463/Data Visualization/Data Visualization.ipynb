{
 "cells": [
  {
   "cell_type": "code",
   "execution_count": 1,
   "id": "d7f26c41-2862-45d1-a785-12426cc0b1ca",
   "metadata": {},
   "outputs": [],
   "source": [
    "import pandas as pd\n",
    "import numpy as np\n",
    "import seaborn as sns \n",
    "import matplotlib.pyplot as plt"
   ]
  },
  {
   "cell_type": "code",
   "execution_count": 2,
   "id": "71357d5d-db95-41af-b1da-f2c32b1edfe3",
   "metadata": {},
   "outputs": [],
   "source": [
    "df_lessons=pd.read_csv(\"lessons_code.csv\").copy()"
   ]
  },
  {
   "cell_type": "code",
   "execution_count": 3,
   "id": "bf5ac677-1404-40ed-9585-b00c0c8a1393",
   "metadata": {},
   "outputs": [],
   "source": [
    "df_comments =pd.read_csv(\"students_final2.csv\").copy()"
   ]
  },
  {
   "cell_type": "code",
   "execution_count": 4,
   "id": "df2c10e7-e21f-40bb-ab97-0a53338e139c",
   "metadata": {},
   "outputs": [],
   "source": [
    "pd.set_option('display.max_columns', None)\n",
    "pd.set_option('display.max_rows', None)"
   ]
  },
  {
   "cell_type": "code",
   "execution_count": 5,
   "id": "bd5bb92f-0667-45fe-816e-e024af58870b",
   "metadata": {},
   "outputs": [],
   "source": [
    "df_lessons.loc[df_lessons['Lesson Code'].str.contains(' '), 'Lesson Hours'] = df_lessons['Lesson Date']\n",
    "df_lessons.loc[df_lessons['Lesson Code'].str.contains(' '), 'Lesson Date'] = df_lessons['Teacher Name']\n",
    "df_lessons.loc[df_lessons['Lesson Code'].str.contains(' '), 'Teacher Name'] = '-'\n",
    "df_lessons[\"Number\"]=df_lessons[\"Lesson Code\"].str.extract('(\\d+)')\n",
    "df_lessons[\"String\"]=df_lessons[\"Lesson Code\"].str.extract('(\\D+)',expand=False).str.strip()\n",
    "df_lessons[\"Education Level\"]=\"\"\n",
    "df_lessons.loc[df_lessons['Number'].str.startswith('5'), 'Education Level'] = 'Master'\n",
    "df_lessons.loc[df_lessons['Number'].str.startswith('6'), 'Education Level'] = 'Master'\n",
    "df_lessons.loc[df_lessons['Number'].str.startswith('7'), 'Education Level'] = 'PHD'\n",
    "df_lessons.loc[df_lessons['Number'].str.startswith('8'), 'Education Level'] = 'PHD'\n",
    "df_lessons.loc[df_lessons['Number'].str.startswith('1'), 'Education Level'] = 'Undergraduate'\n",
    "df_lessons.loc[df_lessons['Number'].str.startswith('2'), 'Education Level'] = 'Undergraduate'\n",
    "df_lessons.loc[df_lessons['Number'].str.startswith('3'), 'Education Level'] = 'Undergraduate'\n",
    "df_lessons.loc[df_lessons['Number'].str.startswith('4'), 'Education Level'] = 'Undergraduate'\n",
    "df_lessons[\"Year\"]=\"\"\n",
    "df_lessons.loc[df_lessons['Number'].str.startswith('5'), 'Year'] = 5\n",
    "df_lessons.loc[df_lessons['Number'].str.startswith('6'), 'Year'] = 6\n",
    "df_lessons.loc[df_lessons['Number'].str.startswith('7'), 'Year'] = 7\n",
    "df_lessons.loc[df_lessons['Number'].str.startswith('8'), 'Year'] = 8\n",
    "df_lessons.loc[df_lessons['Number'].str.startswith('1'), 'Year'] = 1\n",
    "df_lessons.loc[df_lessons['Number'].str.startswith('2'), 'Year'] = 2\n",
    "df_lessons.loc[df_lessons['Number'].str.startswith('3'), 'Year'] = 3\n",
    "df_lessons.loc[df_lessons['Number'].str.startswith('4'), 'Year'] = 4\n",
    "df_lessons['Lesson'] = df_lessons['String'] + df_lessons['Number']\n",
    "df_lessons.fillna('-',inplace=True)"
   ]
  },
  {
   "cell_type": "code",
   "execution_count": 6,
   "id": "1f480587-7ee0-4c3b-b1e3-305f6c850458",
   "metadata": {},
   "outputs": [],
   "source": [
    "df_lab_lessons = df_lessons[df_lessons['Lesson Code'].str.contains(' ')]\n",
    "df_undergraduate_lessons = df_lessons[df_lessons['Education Level'].str.contains('Undergraduate')]\n",
    "df_no_lab_lessons = df_lessons[df_lessons['Teacher Name'].str.contains(' ')]"
   ]
  },
  {
   "cell_type": "code",
   "execution_count": 7,
   "id": "7bc95892-1ffb-4b19-897d-0a6a2cf31e6b",
   "metadata": {},
   "outputs": [
    {
     "data": {
      "text/plain": [
       "Lesson Code        0\n",
       "Lesson Name        0\n",
       "Teacher Name       0\n",
       "Lesson Date        0\n",
       "Lesson Hours       0\n",
       "Lesson Credit      0\n",
       "Number             0\n",
       "String             0\n",
       "Education Level    0\n",
       "Year               0\n",
       "Lesson             0\n",
       "dtype: int64"
      ]
     },
     "execution_count": 7,
     "metadata": {},
     "output_type": "execute_result"
    }
   ],
   "source": [
    "df_lessons.isnull().sum()"
   ]
  },
  {
   "cell_type": "code",
   "execution_count": 8,
   "id": "2eedc4e0-3fe1-477a-aaf7-3d222349ed3f",
   "metadata": {},
   "outputs": [],
   "source": [
    "#print(f\"{df_lessons['Teacher Name'].value_counts()}\\n\")"
   ]
  },
  {
   "cell_type": "code",
   "execution_count": 9,
   "id": "02a69ce7-a7d6-407d-bd75-c98d2c2544fc",
   "metadata": {},
   "outputs": [
    {
     "data": {
      "image/png": "[encoded data removed]",
      "text/plain": [
       "<Figure size 432x288 with 1 Axes>"
      ]
     },
     "metadata": {},
     "output_type": "display_data"
    }
   ],
   "source": [
    "sns.set_style('darkgrid')\n",
    "ax =sns.countplot(x = 'Education Level', data = df_lessons.drop_duplicates(['String','Lesson']),palette = 'bright')\n",
    "ax.set(xlabel='Lessons Opened This Semester', ylabel='Number of the Lessons')\n",
    "plt.show()"
   ]
  },
  {
   "cell_type": "code",
   "execution_count": 10,
   "id": "b4a4e96c-5251-47af-93bc-f0ab0189cdeb",
   "metadata": {},
   "outputs": [
    {
     "data": {
      "text/html": [
       "<div>\n",
       "<style scoped>\n",
       "    .dataframe tbody tr th:only-of-type {\n",
       "        vertical-align: middle;\n",
       "    }\n",
       "\n",
       "    .dataframe tbody tr th {\n",
       "        vertical-align: top;\n",
       "    }\n",
       "\n",
       "    .dataframe thead th {\n",
       "        text-align: right;\n",
       "    }\n",
       "</style>\n",
       "<table border=\"1\" class=\"dataframe\">\n",
       "  <thead>\n",
       "    <tr style=\"text-align: right;\">\n",
       "      <th></th>\n",
       "      <th>Lesson Code</th>\n",
       "      <th>Lesson Name</th>\n",
       "      <th>Teacher Name</th>\n",
       "      <th>Lesson Date</th>\n",
       "      <th>Lesson Hours</th>\n",
       "      <th>Lesson Credit</th>\n",
       "      <th>Number</th>\n",
       "      <th>String</th>\n",
       "      <th>Education Level</th>\n",
       "      <th>Year</th>\n",
       "      <th>Lesson</th>\n",
       "    </tr>\n",
       "  </thead>\n",
       "  <tbody>\n",
       "    <tr>\n",
       "      <th>0</th>\n",
       "      <td>AD102.01</td>\n",
       "      <td>INTRODUCTION TO MANAGEMENT</td>\n",
       "      <td>STAFF STAFF</td>\n",
       "      <td>📅 TTT</td>\n",
       "      <td>⏱️ 91011</td>\n",
       "      <td>3 Cr 5 ECTS</td>\n",
       "      <td>102</td>\n",
       "      <td>AD</td>\n",
       "      <td>Undergraduate</td>\n",
       "      <td>1</td>\n",
       "      <td>AD102</td>\n",
       "    </tr>\n",
       "    <tr>\n",
       "      <th>1</th>\n",
       "      <td>AD131.01</td>\n",
       "      <td>INTRO. TO LAW I</td>\n",
       "      <td>MEHMET ARTEMEL</td>\n",
       "      <td>📅 ThThTh</td>\n",
       "      <td>⏱️ 678</td>\n",
       "      <td>3 Cr 4 ECTS</td>\n",
       "      <td>131</td>\n",
       "      <td>AD</td>\n",
       "      <td>Undergraduate</td>\n",
       "      <td>1</td>\n",
       "      <td>AD131</td>\n",
       "    </tr>\n",
       "    <tr>\n",
       "      <th>2</th>\n",
       "      <td>AD131.02</td>\n",
       "      <td>INTRO. TO LAW I</td>\n",
       "      <td>MEHMET ARTEMEL</td>\n",
       "      <td>📅 FFF</td>\n",
       "      <td>⏱️ 678</td>\n",
       "      <td>3 Cr 4 ECTS</td>\n",
       "      <td>131</td>\n",
       "      <td>AD</td>\n",
       "      <td>Undergraduate</td>\n",
       "      <td>1</td>\n",
       "      <td>AD131</td>\n",
       "    </tr>\n",
       "    <tr>\n",
       "      <th>3</th>\n",
       "      <td>AD211.01</td>\n",
       "      <td>FINANCIAL ACCOUNTING FOR ECONOMISTS</td>\n",
       "      <td>FATİH F.YILMAZ</td>\n",
       "      <td>📅 MMM</td>\n",
       "      <td>⏱️ 123</td>\n",
       "      <td>3 Cr 4 ECTS</td>\n",
       "      <td>211</td>\n",
       "      <td>AD</td>\n",
       "      <td>Undergraduate</td>\n",
       "      <td>2</td>\n",
       "      <td>AD211</td>\n",
       "    </tr>\n",
       "    <tr>\n",
       "      <th>4</th>\n",
       "      <td>AD213.01</td>\n",
       "      <td>FINANCIAL ACCOUNTING</td>\n",
       "      <td>ALİ COŞKUN</td>\n",
       "      <td>📅 TTT</td>\n",
       "      <td>⏱️ 234</td>\n",
       "      <td>3 Cr 5 ECTS</td>\n",
       "      <td>213</td>\n",
       "      <td>AD</td>\n",
       "      <td>Undergraduate</td>\n",
       "      <td>2</td>\n",
       "      <td>AD213</td>\n",
       "    </tr>\n",
       "    <tr>\n",
       "      <th>5</th>\n",
       "      <td>AD213.02</td>\n",
       "      <td>FINANCIAL ACCOUNTING</td>\n",
       "      <td>ALİ COŞKUN</td>\n",
       "      <td>📅 WWW</td>\n",
       "      <td>⏱️ 234</td>\n",
       "      <td>3 Cr 5 ECTS</td>\n",
       "      <td>213</td>\n",
       "      <td>AD</td>\n",
       "      <td>Undergraduate</td>\n",
       "      <td>2</td>\n",
       "      <td>AD213</td>\n",
       "    </tr>\n",
       "    <tr>\n",
       "      <th>6</th>\n",
       "      <td>AD216.01</td>\n",
       "      <td>FINANCIAL &amp; COST ACCOUNTING</td>\n",
       "      <td>UĞUR AKDOĞAN</td>\n",
       "      <td>📅 ThFFF</td>\n",
       "      <td>⏱️ 6678</td>\n",
       "      <td>4 Cr 6 ECTS</td>\n",
       "      <td>216</td>\n",
       "      <td>AD</td>\n",
       "      <td>Undergraduate</td>\n",
       "      <td>2</td>\n",
       "      <td>AD216</td>\n",
       "    </tr>\n",
       "    <tr>\n",
       "      <th>7</th>\n",
       "      <td>AD220.01</td>\n",
       "      <td>MANAGEMENT OF ORGANIZATIONS</td>\n",
       "      <td>ÖZGÜN BURCU RODOPMAN</td>\n",
       "      <td>📅 ThThTh</td>\n",
       "      <td>⏱️ 234</td>\n",
       "      <td>3 Cr 5 ECTS</td>\n",
       "      <td>220</td>\n",
       "      <td>AD</td>\n",
       "      <td>Undergraduate</td>\n",
       "      <td>2</td>\n",
       "      <td>AD220</td>\n",
       "    </tr>\n",
       "    <tr>\n",
       "      <th>8</th>\n",
       "      <td>AD251.02</td>\n",
       "      <td>MANAGERIAL STATISTICS I</td>\n",
       "      <td>NESRİN OKAY AKMAN</td>\n",
       "      <td>📅 MMM</td>\n",
       "      <td>⏱️ 345</td>\n",
       "      <td>3 Cr 5 ECTS</td>\n",
       "      <td>251</td>\n",
       "      <td>AD</td>\n",
       "      <td>Undergraduate</td>\n",
       "      <td>2</td>\n",
       "      <td>AD251</td>\n",
       "    </tr>\n",
       "    <tr>\n",
       "      <th>9</th>\n",
       "      <td>AD302.01</td>\n",
       "      <td>RESEARCH METHODS</td>\n",
       "      <td>BELGİN ARISAN</td>\n",
       "      <td>📅 ThThTh</td>\n",
       "      <td>⏱️ 234</td>\n",
       "      <td>3 Cr 6 ECTS</td>\n",
       "      <td>302</td>\n",
       "      <td>AD</td>\n",
       "      <td>Undergraduate</td>\n",
       "      <td>3</td>\n",
       "      <td>AD302</td>\n",
       "    </tr>\n",
       "  </tbody>\n",
       "</table>\n",
       "</div>"
      ],
      "text/plain": [
       "  Lesson Code                          Lesson Name          Teacher Name  \\\n",
       "0    AD102.01           INTRODUCTION TO MANAGEMENT           STAFF STAFF   \n",
       "1    AD131.01                      INTRO. TO LAW I        MEHMET ARTEMEL   \n",
       "2    AD131.02                      INTRO. TO LAW I        MEHMET ARTEMEL   \n",
       "3    AD211.01  FINANCIAL ACCOUNTING FOR ECONOMISTS        FATİH F.YILMAZ   \n",
       "4    AD213.01                 FINANCIAL ACCOUNTING            ALİ COŞKUN   \n",
       "5    AD213.02                 FINANCIAL ACCOUNTING            ALİ COŞKUN   \n",
       "6    AD216.01          FINANCIAL & COST ACCOUNTING          UĞUR AKDOĞAN   \n",
       "7    AD220.01          MANAGEMENT OF ORGANIZATIONS  ÖZGÜN BURCU RODOPMAN   \n",
       "8    AD251.02              MANAGERIAL STATISTICS I     NESRİN OKAY AKMAN   \n",
       "9    AD302.01                     RESEARCH METHODS         BELGİN ARISAN   \n",
       "\n",
       "  Lesson Date Lesson Hours Lesson Credit Number String Education Level Year  \\\n",
       "0       📅 TTT     ⏱️ 91011   3 Cr 5 ECTS    102     AD   Undergraduate    1   \n",
       "1    📅 ThThTh       ⏱️ 678   3 Cr 4 ECTS    131     AD   Undergraduate    1   \n",
       "2       📅 FFF       ⏱️ 678   3 Cr 4 ECTS    131     AD   Undergraduate    1   \n",
       "3       📅 MMM       ⏱️ 123   3 Cr 4 ECTS    211     AD   Undergraduate    2   \n",
       "4       📅 TTT       ⏱️ 234   3 Cr 5 ECTS    213     AD   Undergraduate    2   \n",
       "5       📅 WWW       ⏱️ 234   3 Cr 5 ECTS    213     AD   Undergraduate    2   \n",
       "6     📅 ThFFF      ⏱️ 6678   4 Cr 6 ECTS    216     AD   Undergraduate    2   \n",
       "7    📅 ThThTh       ⏱️ 234   3 Cr 5 ECTS    220     AD   Undergraduate    2   \n",
       "8       📅 MMM       ⏱️ 345   3 Cr 5 ECTS    251     AD   Undergraduate    2   \n",
       "9    📅 ThThTh       ⏱️ 234   3 Cr 6 ECTS    302     AD   Undergraduate    3   \n",
       "\n",
       "  Lesson  \n",
       "0  AD102  \n",
       "1  AD131  \n",
       "2  AD131  \n",
       "3  AD211  \n",
       "4  AD213  \n",
       "5  AD213  \n",
       "6  AD216  \n",
       "7  AD220  \n",
       "8  AD251  \n",
       "9  AD302  "
      ]
     },
     "execution_count": 10,
     "metadata": {},
     "output_type": "execute_result"
    }
   ],
   "source": [
    "df_lessons.head(10)"
   ]
  },
  {
   "cell_type": "code",
   "execution_count": 11,
   "id": "2271be6c-d81a-4e83-93d2-7432f10b2f35",
   "metadata": {},
   "outputs": [
    {
     "data": {
      "image/png": "[encoded data removed]",
      "text/plain": [
       "<Figure size 432x288 with 1 Axes>"
      ]
     },
     "metadata": {},
     "output_type": "display_data"
    }
   ],
   "source": [
    "sns.set_style('darkgrid')\n",
    "ax =sns.countplot(x = 'Year', data = df_undergraduate_lessons.drop_duplicates(['String','Lesson']),palette = 'bright')\n",
    "ax.set(xlabel='Lessons Code Starts With', ylabel='Number of the Lessons')\n",
    "plt.show()"
   ]
  },
  {
   "cell_type": "code",
   "execution_count": 12,
   "id": "6e2907a6-7429-40e7-ad27-dae4fec92bd3",
   "metadata": {},
   "outputs": [
    {
     "data": {
      "image/png": "[encoded data removed]",
      "text/plain": [
       "<Figure size 1080x504 with 1 Axes>"
      ]
     },
     "metadata": {},
     "output_type": "display_data"
    }
   ],
   "source": [
    "plt.figure(figsize = (15,7))\n",
    "sns.set_style('darkgrid')\n",
    "ax =sns.countplot(x = 'Teacher Name', data = df_lessons,palette = 'Pastel1',order=pd.value_counts(df_lessons[\"Teacher Name\"]).iloc[3:11].index,hue=\"Education Level\")\n",
    "ax.set(xlabel='Teacher Name', ylabel='Number of the Lessons')\n",
    "plt.show()\n"
   ]
  },
  {
   "cell_type": "code",
   "execution_count": 13,
   "id": "c38d85c3-804b-416e-b9c5-97fc3faa6410",
   "metadata": {},
   "outputs": [],
   "source": [
    "df_comments[\"Number\"]=df_comments[\"Lesson Name\"].str.extract('(\\d+)')\n",
    "df_comments[\"String\"]=df_comments[\"Lesson Name\"].str.extract('(\\D+)',expand=False).str.strip()"
   ]
  },
  {
   "cell_type": "code",
   "execution_count": 14,
   "id": "b861a718-e0f2-4ea8-819e-d99841dd7f83",
   "metadata": {},
   "outputs": [],
   "source": [
    "df_comments[\"Education Level\"]=\"\"\n",
    "df_comments.loc[df_comments['Number'].str.startswith('5'), 'Education Level'] = 'Master'\n",
    "df_comments.loc[df_comments['Number'].str.startswith('6'), 'Education Level'] = 'Master'\n",
    "df_comments.loc[df_comments['Number'].str.startswith('7'), 'Education Level'] = 'PHD'\n",
    "df_comments.loc[df_comments['Number'].str.startswith('8'), 'Education Level'] = 'PHD'\n",
    "df_comments.loc[df_comments['Number'].str.startswith('1'), 'Education Level'] = 'Undergraduate'\n",
    "df_comments.loc[df_comments['Number'].str.startswith('2'), 'Education Level'] = 'Undergraduate'\n",
    "df_comments.loc[df_comments['Number'].str.startswith('3'), 'Education Level'] = 'Undergraduate'\n",
    "df_comments.loc[df_comments['Number'].str.startswith('4'), 'Education Level'] = 'Undergraduate'\n",
    "df_comments[\"Year\"]=\"\"\n",
    "df_comments.loc[df_comments['Number'].str.startswith('5'), 'Year'] = 5\n",
    "df_comments.loc[df_comments['Number'].str.startswith('6'), 'Year'] = 6\n",
    "df_comments.loc[df_comments['Number'].str.startswith('7'), 'Year'] = 7\n",
    "df_comments.loc[df_comments['Number'].str.startswith('8'), 'Year'] = 8\n",
    "df_comments.loc[df_comments['Number'].str.startswith('1'), 'Year'] = 1\n",
    "df_comments.loc[df_comments['Number'].str.startswith('2'), 'Year'] = 2\n",
    "df_comments.loc[df_comments['Number'].str.startswith('3'), 'Year'] = 3\n",
    "df_comments.loc[df_comments['Number'].str.startswith('4'), 'Year'] = 4"
   ]
  },
  {
   "cell_type": "code",
   "execution_count": 15,
   "id": "3ff0b127-f476-4359-9a2e-631fcac2a53e",
   "metadata": {},
   "outputs": [
    {
     "data": {
      "text/html": [
       "<div>\n",
       "<style scoped>\n",
       "    .dataframe tbody tr th:only-of-type {\n",
       "        vertical-align: middle;\n",
       "    }\n",
       "\n",
       "    .dataframe tbody tr th {\n",
       "        vertical-align: top;\n",
       "    }\n",
       "\n",
       "    .dataframe thead th {\n",
       "        text-align: right;\n",
       "    }\n",
       "</style>\n",
       "<table border=\"1\" class=\"dataframe\">\n",
       "  <thead>\n",
       "    <tr style=\"text-align: right;\">\n",
       "      <th></th>\n",
       "      <th>Username</th>\n",
       "      <th>Lesson Name</th>\n",
       "      <th>Teacher Name</th>\n",
       "      <th>Text</th>\n",
       "      <th>Point</th>\n",
       "      <th>Number</th>\n",
       "      <th>String</th>\n",
       "      <th>Education Level</th>\n",
       "      <th>Year</th>\n",
       "    </tr>\n",
       "  </thead>\n",
       "  <tbody>\n",
       "    <tr>\n",
       "      <th>0</th>\n",
       "      <td>elif</td>\n",
       "      <td>SOC101</td>\n",
       "      <td>Ali Tuna Kuyucu</td>\n",
       "      <td>elif SOC101 dersini Ali Tuna Kuyucu hocasından...</td>\n",
       "      <td>0.0</td>\n",
       "      <td>101</td>\n",
       "      <td>SOC</td>\n",
       "      <td>Undergraduate</td>\n",
       "      <td>1</td>\n",
       "    </tr>\n",
       "    <tr>\n",
       "      <th>1</th>\n",
       "      <td>Zeynep837</td>\n",
       "      <td>SOC101</td>\n",
       "      <td>Ali Tuna Kuyucu</td>\n",
       "      <td>Zeynep837 SOC101 dersini Ali Tuna Kuyucu hocas...</td>\n",
       "      <td>0.0</td>\n",
       "      <td>101</td>\n",
       "      <td>SOC</td>\n",
       "      <td>Undergraduate</td>\n",
       "      <td>1</td>\n",
       "    </tr>\n",
       "    <tr>\n",
       "      <th>2</th>\n",
       "      <td>mrymsygili</td>\n",
       "      <td>SOC101</td>\n",
       "      <td>Ali Tuna Kuyucu</td>\n",
       "      <td>mrymsygili SOC101 dersini Ali Tuna Kuyucu hoca...</td>\n",
       "      <td>0.0</td>\n",
       "      <td>101</td>\n",
       "      <td>SOC</td>\n",
       "      <td>Undergraduate</td>\n",
       "      <td>1</td>\n",
       "    </tr>\n",
       "    <tr>\n",
       "      <th>3</th>\n",
       "      <td>cengin</td>\n",
       "      <td>SOC101</td>\n",
       "      <td>Ali Tuna Kuyucu</td>\n",
       "      <td>cengin SOC101 dersini Ali Tuna Kuyucu hocasınd...</td>\n",
       "      <td>0.0</td>\n",
       "      <td>101</td>\n",
       "      <td>SOC</td>\n",
       "      <td>Undergraduate</td>\n",
       "      <td>1</td>\n",
       "    </tr>\n",
       "    <tr>\n",
       "      <th>4</th>\n",
       "      <td>tylerdurden</td>\n",
       "      <td>SOC101</td>\n",
       "      <td>Ali Tuna Kuyucu</td>\n",
       "      <td>tylerdurden SOC101 dersini Ali Tuna Kuyucu hoc...</td>\n",
       "      <td>0.0</td>\n",
       "      <td>101</td>\n",
       "      <td>SOC</td>\n",
       "      <td>Undergraduate</td>\n",
       "      <td>1</td>\n",
       "    </tr>\n",
       "    <tr>\n",
       "      <th>5</th>\n",
       "      <td>Lagertha</td>\n",
       "      <td>SOC101</td>\n",
       "      <td>Ali Tuna Kuyucu</td>\n",
       "      <td>Lagertha SOC101 dersini Ali Tuna Kuyucu hocası...</td>\n",
       "      <td>0.0</td>\n",
       "      <td>101</td>\n",
       "      <td>SOC</td>\n",
       "      <td>Undergraduate</td>\n",
       "      <td>1</td>\n",
       "    </tr>\n",
       "    <tr>\n",
       "      <th>6</th>\n",
       "      <td>nickim</td>\n",
       "      <td>SOC101</td>\n",
       "      <td>Ali Tuna Kuyucu</td>\n",
       "      <td>nickim SOC101 dersini Ali Tuna Kuyucu hocasınd...</td>\n",
       "      <td>0.0</td>\n",
       "      <td>101</td>\n",
       "      <td>SOC</td>\n",
       "      <td>Undergraduate</td>\n",
       "      <td>1</td>\n",
       "    </tr>\n",
       "    <tr>\n",
       "      <th>7</th>\n",
       "      <td>Goat</td>\n",
       "      <td>SOC101</td>\n",
       "      <td>Ali Tuna Kuyucu</td>\n",
       "      <td>Goat SOC101 dersini Ali Tuna Kuyucu hocasından...</td>\n",
       "      <td>0.0</td>\n",
       "      <td>101</td>\n",
       "      <td>SOC</td>\n",
       "      <td>Undergraduate</td>\n",
       "      <td>1</td>\n",
       "    </tr>\n",
       "    <tr>\n",
       "      <th>8</th>\n",
       "      <td>engincan</td>\n",
       "      <td>SOC101</td>\n",
       "      <td>Ali Tuna Kuyucu</td>\n",
       "      <td>engincan SOC101 dersini Ali Tuna Kuyucu hocası...</td>\n",
       "      <td>0.0</td>\n",
       "      <td>101</td>\n",
       "      <td>SOC</td>\n",
       "      <td>Undergraduate</td>\n",
       "      <td>1</td>\n",
       "    </tr>\n",
       "    <tr>\n",
       "      <th>9</th>\n",
       "      <td>_Karınca_</td>\n",
       "      <td>SOC101</td>\n",
       "      <td>Ali Tuna Kuyucu</td>\n",
       "      <td>Eğer hiperaktif biriyseniz bu hoca size çok ya...</td>\n",
       "      <td>0.0</td>\n",
       "      <td>101</td>\n",
       "      <td>SOC</td>\n",
       "      <td>Undergraduate</td>\n",
       "      <td>1</td>\n",
       "    </tr>\n",
       "  </tbody>\n",
       "</table>\n",
       "</div>"
      ],
      "text/plain": [
       "      Username Lesson Name     Teacher Name  \\\n",
       "0         elif      SOC101  Ali Tuna Kuyucu   \n",
       "1    Zeynep837      SOC101  Ali Tuna Kuyucu   \n",
       "2   mrymsygili      SOC101  Ali Tuna Kuyucu   \n",
       "3       cengin      SOC101  Ali Tuna Kuyucu   \n",
       "4  tylerdurden      SOC101  Ali Tuna Kuyucu   \n",
       "5     Lagertha      SOC101  Ali Tuna Kuyucu   \n",
       "6       nickim      SOC101  Ali Tuna Kuyucu   \n",
       "7         Goat      SOC101  Ali Tuna Kuyucu   \n",
       "8     engincan      SOC101  Ali Tuna Kuyucu   \n",
       "9    _Karınca_      SOC101  Ali Tuna Kuyucu   \n",
       "\n",
       "                                                Text  Point Number String  \\\n",
       "0  elif SOC101 dersini Ali Tuna Kuyucu hocasından...    0.0    101    SOC   \n",
       "1  Zeynep837 SOC101 dersini Ali Tuna Kuyucu hocas...    0.0    101    SOC   \n",
       "2  mrymsygili SOC101 dersini Ali Tuna Kuyucu hoca...    0.0    101    SOC   \n",
       "3  cengin SOC101 dersini Ali Tuna Kuyucu hocasınd...    0.0    101    SOC   \n",
       "4  tylerdurden SOC101 dersini Ali Tuna Kuyucu hoc...    0.0    101    SOC   \n",
       "5  Lagertha SOC101 dersini Ali Tuna Kuyucu hocası...    0.0    101    SOC   \n",
       "6  nickim SOC101 dersini Ali Tuna Kuyucu hocasınd...    0.0    101    SOC   \n",
       "7  Goat SOC101 dersini Ali Tuna Kuyucu hocasından...    0.0    101    SOC   \n",
       "8  engincan SOC101 dersini Ali Tuna Kuyucu hocası...    0.0    101    SOC   \n",
       "9  Eğer hiperaktif biriyseniz bu hoca size çok ya...    0.0    101    SOC   \n",
       "\n",
       "  Education Level Year  \n",
       "0   Undergraduate    1  \n",
       "1   Undergraduate    1  \n",
       "2   Undergraduate    1  \n",
       "3   Undergraduate    1  \n",
       "4   Undergraduate    1  \n",
       "5   Undergraduate    1  \n",
       "6   Undergraduate    1  \n",
       "7   Undergraduate    1  \n",
       "8   Undergraduate    1  \n",
       "9   Undergraduate    1  "
      ]
     },
     "execution_count": 15,
     "metadata": {},
     "output_type": "execute_result"
    }
   ],
   "source": [
    "df_comments.head(10)"
   ]
  },
  {
   "cell_type": "code",
   "execution_count": 16,
   "id": "ddba226d-dbbf-49e3-8a9d-446d165839cb",
   "metadata": {},
   "outputs": [
    {
     "data": {
      "image/png": "[encoded data removed]",
      "text/plain": [
       "<Figure size 432x288 with 1 Axes>"
      ]
     },
     "metadata": {},
     "output_type": "display_data"
    }
   ],
   "source": [
    "sns.set_style('darkgrid')\n",
    "sns.countplot(x  = 'Point',  data = df_comments, palette = \"bright\");"
   ]
  },
  {
   "cell_type": "code",
   "execution_count": 17,
   "id": "a50a13fe-842b-49b0-bae4-4715d8505eab",
   "metadata": {},
   "outputs": [
    {
     "name": "stdout",
     "output_type": "stream",
     "text": [
      "0.6695772058823529\n",
      "1358\n",
      "879\n",
      "3203\n"
     ]
    }
   ],
   "source": [
    "print(df_comments[\"Point\"].mean())\n",
    "print(df_comments[\"Point\"].value_counts()[0])\n",
    "print(df_comments[\"Point\"].value_counts()[0.5])\n",
    "print(df_comments[\"Point\"].value_counts()[1])"
   ]
  },
  {
   "cell_type": "code",
   "execution_count": 18,
   "id": "a8ec6e04-6cb8-4509-921a-a19d61d286ef",
   "metadata": {},
   "outputs": [
    {
     "data": {
      "image/png": "[encoded data removed]",
      "text/plain": [
       "<Figure size 432x288 with 1 Axes>"
      ]
     },
     "metadata": {},
     "output_type": "display_data"
    }
   ],
   "source": [
    "#plt.figure(figsize = (10,8))\n",
    "sns.set_style('darkgrid')\n",
    "ax =sns.countplot(x = 'Education Level', data = df_comments,palette = 'bright')\n",
    "ax.set(xlabel='Comments About Lessons', ylabel='Number of the Lessons')\n",
    "plt.show()"
   ]
  },
  {
   "cell_type": "code",
   "execution_count": 51,
   "id": "fedb36b9-1675-47b9-8d87-9eabcf141b40",
   "metadata": {},
   "outputs": [
    {
     "data": {
      "image/png": "[encoded data removed]",
      "text/plain": [
       "<Figure size 1080x504 with 1 Axes>"
      ]
     },
     "metadata": {},
     "output_type": "display_data"
    }
   ],
   "source": [
    "plt.figure(figsize = (15,7))\n",
    "sns.set_style('darkgrid')\n",
    "sns.countplot(x  = 'Lesson Name',  data = df_comments, palette = 'bright',order=df_comments.groupby(\"Lesson Name\")[\"Point\"].mean().iloc[:8].index, hue=\"Point\");\n",
    "plt.show()"
   ]
  },
  {
   "cell_type": "code",
   "execution_count": 46,
   "id": "9561b1bf-4932-4f1d-bf80-9c3a02a45d1d",
   "metadata": {},
   "outputs": [
    {
     "ename": "SyntaxError",
     "evalue": "EOL while scanning string literal (1196981080.py, line 3)",
     "output_type": "error",
     "traceback": [
      "\u001b[1;36m  Input \u001b[1;32mIn [46]\u001b[1;36m\u001b[0m\n\u001b[1;33m    y='Point.mean,\u001b[0m\n\u001b[1;37m                  ^\u001b[0m\n\u001b[1;31mSyntaxError\u001b[0m\u001b[1;31m:\u001b[0m EOL while scanning string literal\n"
     ]
    }
   ],
   "source": []
  },
  {
   "cell_type": "code",
   "execution_count": 21,
   "id": "988ccd1b-a83a-4ebb-ba73-ff0a205fa23a",
   "metadata": {},
   "outputs": [
    {
     "data": {
      "text/plain": [
       "<Figure size 1440x504 with 0 Axes>"
      ]
     },
     "metadata": {},
     "output_type": "display_data"
    },
    {
     "data": {
      "image/png": "[encoded data removed]",
      "text/plain": [
       "<Figure size 360x360 with 1 Axes>"
      ]
     },
     "metadata": {},
     "output_type": "display_data"
    }
   ],
   "source": [
    "plt.figure(figsize = (20,7))\n",
    "sns.displot(x='String', kde=True, data=df_comments, palette='dark:salmon_r')\n",
    "plt.title(\"Distribution of Percentage increase in customer orders\")\n",
    "plt.show()"
   ]
  },
  {
   "cell_type": "code",
   "execution_count": 22,
   "id": "787902f3-6b4f-4a5b-a6ee-f84a13ca35a2",
   "metadata": {},
   "outputs": [
    {
     "data": {
      "image/png": "[encoded data removed]",
      "text/plain": [
       "<Figure size 432x288 with 1 Axes>"
      ]
     },
     "metadata": {},
     "output_type": "display_data"
    }
   ],
   "source": [
    "sns.set_style('darkgrid')\n",
    "ax =sns.countplot(x = 'Year', data = df_comments,palette = 'bright',order=pd.value_counts(df_comments[\"Year\"]).iloc[:4].index,)\n",
    "ax.set(xlabel='Comments About Lessons', ylabel='Number of the Lessons')\n",
    "plt.show()"
   ]
  },
  {
   "cell_type": "code",
   "execution_count": null,
   "id": "fdcfd0c3-ce82-4c93-b4c6-dcd1c5716381",
   "metadata": {
    "jupyter": {
     "source_hidden": true
    },
    "tags": []
   },
   "outputs": [],
   "source": []
  },
  {
   "cell_type": "code",
   "execution_count": 23,
   "id": "8b54718e-1a67-4a69-ae8b-1302bbf098dd",
   "metadata": {},
   "outputs": [],
   "source": [
    "df_math101_comments = df_comments[df_comments[\"Lesson Name\"].str.contains(\"MATH101\")]\n",
    "df_ec101_comments = df_comments[df_comments[\"Lesson Name\"].str.contains(\"EC101\")]"
   ]
  },
  {
   "cell_type": "code",
   "execution_count": 24,
   "id": "a40f6eb9-e600-4111-8c45-00349a5e6a05",
   "metadata": {},
   "outputs": [
    {
     "data": {
      "text/html": [
       "<div>\n",
       "<style scoped>\n",
       "    .dataframe tbody tr th:only-of-type {\n",
       "        vertical-align: middle;\n",
       "    }\n",
       "\n",
       "    .dataframe tbody tr th {\n",
       "        vertical-align: top;\n",
       "    }\n",
       "\n",
       "    .dataframe thead th {\n",
       "        text-align: right;\n",
       "    }\n",
       "</style>\n",
       "<table border=\"1\" class=\"dataframe\">\n",
       "  <thead>\n",
       "    <tr style=\"text-align: right;\">\n",
       "      <th></th>\n",
       "      <th>Username</th>\n",
       "      <th>Lesson Name</th>\n",
       "      <th>Teacher Name</th>\n",
       "      <th>Text</th>\n",
       "      <th>Point</th>\n",
       "      <th>Number</th>\n",
       "      <th>String</th>\n",
       "      <th>Education Level</th>\n",
       "      <th>Year</th>\n",
       "    </tr>\n",
       "  </thead>\n",
       "  <tbody>\n",
       "    <tr>\n",
       "      <th>176</th>\n",
       "      <td>bounpecetesi</td>\n",
       "      <td>MATH101</td>\n",
       "      <td>Betül Tanbay</td>\n",
       "      <td>bounpecetesi MATH101 dersini Betül Tanbay hoca...</td>\n",
       "      <td>0.0</td>\n",
       "      <td>101</td>\n",
       "      <td>MATH</td>\n",
       "      <td>Undergraduate</td>\n",
       "      <td>1</td>\n",
       "    </tr>\n",
       "    <tr>\n",
       "      <th>177</th>\n",
       "      <td>allah</td>\n",
       "      <td>MATH101</td>\n",
       "      <td>Betül Tanbay</td>\n",
       "      <td>allah MATH101 dersini Betül Tanbay hocasından ...</td>\n",
       "      <td>0.0</td>\n",
       "      <td>101</td>\n",
       "      <td>MATH</td>\n",
       "      <td>Undergraduate</td>\n",
       "      <td>1</td>\n",
       "    </tr>\n",
       "    <tr>\n",
       "      <th>178</th>\n",
       "      <td>muhibbi</td>\n",
       "      <td>MATH101</td>\n",
       "      <td>Betül Tanbay</td>\n",
       "      <td>muhibbi MATH101 dersini Betül Tanbay hocasında...</td>\n",
       "      <td>0.0</td>\n",
       "      <td>101</td>\n",
       "      <td>MATH</td>\n",
       "      <td>Undergraduate</td>\n",
       "      <td>1</td>\n",
       "    </tr>\n",
       "    <tr>\n",
       "      <th>179</th>\n",
       "      <td>reyhann</td>\n",
       "      <td>MATH101</td>\n",
       "      <td>Betül Tanbay</td>\n",
       "      <td>reyhann MATH101 dersini Betül Tanbay hocasında...</td>\n",
       "      <td>0.0</td>\n",
       "      <td>101</td>\n",
       "      <td>MATH</td>\n",
       "      <td>Undergraduate</td>\n",
       "      <td>1</td>\n",
       "    </tr>\n",
       "    <tr>\n",
       "      <th>180</th>\n",
       "      <td>FK</td>\n",
       "      <td>MATH101</td>\n",
       "      <td>Betül Tanbay</td>\n",
       "      <td>FK MATH101 dersini Betül Tanbay hocasından şid...</td>\n",
       "      <td>0.0</td>\n",
       "      <td>101</td>\n",
       "      <td>MATH</td>\n",
       "      <td>Undergraduate</td>\n",
       "      <td>1</td>\n",
       "    </tr>\n",
       "  </tbody>\n",
       "</table>\n",
       "</div>"
      ],
      "text/plain": [
       "         Username Lesson Name  Teacher Name  \\\n",
       "176  bounpecetesi     MATH101  Betül Tanbay   \n",
       "177         allah     MATH101  Betül Tanbay   \n",
       "178       muhibbi     MATH101  Betül Tanbay   \n",
       "179       reyhann     MATH101  Betül Tanbay   \n",
       "180            FK     MATH101  Betül Tanbay   \n",
       "\n",
       "                                                  Text  Point Number String  \\\n",
       "176  bounpecetesi MATH101 dersini Betül Tanbay hoca...    0.0    101   MATH   \n",
       "177  allah MATH101 dersini Betül Tanbay hocasından ...    0.0    101   MATH   \n",
       "178  muhibbi MATH101 dersini Betül Tanbay hocasında...    0.0    101   MATH   \n",
       "179  reyhann MATH101 dersini Betül Tanbay hocasında...    0.0    101   MATH   \n",
       "180  FK MATH101 dersini Betül Tanbay hocasından şid...    0.0    101   MATH   \n",
       "\n",
       "    Education Level Year  \n",
       "176   Undergraduate    1  \n",
       "177   Undergraduate    1  \n",
       "178   Undergraduate    1  \n",
       "179   Undergraduate    1  \n",
       "180   Undergraduate    1  "
      ]
     },
     "execution_count": 24,
     "metadata": {},
     "output_type": "execute_result"
    }
   ],
   "source": [
    "df_math101_comments.head(5)"
   ]
  },
  {
   "cell_type": "code",
   "execution_count": 25,
   "id": "54ca2b40-ac0c-4567-be60-06b14a094389",
   "metadata": {},
   "outputs": [
    {
     "data": {
      "image/png": "[encoded data removed]",
      "text/plain": [
       "<Figure size 1080x504 with 1 Axes>"
      ]
     },
     "metadata": {},
     "output_type": "display_data"
    }
   ],
   "source": [
    "plt.figure(figsize = (15,7))\n",
    "sns.set_style('darkgrid')\n",
    "ax =sns.countplot(x = 'Teacher Name', data = df_ec101_comments,palette = 'bright',order=pd.value_counts(df_ec101_comments[\"Teacher Name\"]).iloc[:4].index,hue=\"Point\")\n",
    "ax.set(xlabel='Teacher Name', ylabel='Number of the Points')\n",
    "plt.show()"
   ]
  },
  {
   "cell_type": "code",
   "execution_count": 26,
   "id": "415f93b6-95c7-41a4-8f6a-3e517bdeb6d3",
   "metadata": {},
   "outputs": [
    {
     "data": {
      "image/png": "[encoded data removed]",
      "text/plain": [
       "<Figure size 1080x504 with 1 Axes>"
      ]
     },
     "metadata": {},
     "output_type": "display_data"
    }
   ],
   "source": [
    "plt.figure(figsize = (15,7))\n",
    "sns.set_style('darkgrid')\n",
    "sns.countplot(x  = 'String',  data = df_comments, palette = 'bright',order=pd.value_counts(df_comments[\"String\"]).iloc[:8].index, hue=\"Point\");\n",
    "plt.show()"
   ]
  },
  {
   "cell_type": "code",
   "execution_count": null,
   "id": "400a9837-3757-4b82-adee-2711a5314d85",
   "metadata": {},
   "outputs": [],
   "source": []
  }
 ],
 "metadata": {
  "kernelspec": {
   "display_name": "Python 3 (ipykernel)",
   "language": "python",
   "name": "python3"
  },
  "language_info": {
   "codemirror_mode": {
    "name": "ipython",
    "version": 3
   },
   "file_extension": ".py",
   "mimetype": "text/x-python",
   "name": "python",
   "nbconvert_exporter": "python",
   "pygments_lexer": "ipython3",
   "version": "3.9.12"
  }
 },
 "nbformat": 4,
 "nbformat_minor": 5
}
